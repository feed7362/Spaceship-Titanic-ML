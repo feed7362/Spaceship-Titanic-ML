{
 "cells": [
  {
   "cell_type": "code",
   "execution_count": 2,
   "metadata": {},
   "outputs": [],
   "source": [
    "import pandas as pd\n",
    "from sklearn.ensemble import RandomForestClassifier, VotingClassifier\n",
    "from sklearn.neighbors import KNeighborsClassifier\n",
    "from sklearn.ensemble import VotingClassifier\n",
    "from sklearn.model_selection import GridSearchCV\n",
    "train_data = pd.read_csv(r\"D:\\Projects\\Spaceship-Titanic-ML\\train.csv\")# your path here\n",
    "test_data = pd.read_csv(r\"D:\\Projects\\Spaceship-Titanic-ML\\test.csv\")# your path here\n",
    "\n",
    "y_train = train_data[\"Transported\"]\n",
    "features = train_data.drop(\"Transported\", axis=1)\n",
    "X_train = pd.get_dummies(features)\n",
    "X_test = pd.get_dummies(test_data)\n",
    "\n",
    "param_grid_rf = {\n",
    "    'n_estimators': [100, 200, 300],\n",
    "    'max_depth': [None, 3, 5, 7, 10, 20, 30],\n",
    "    'min_samples_split': [2, 5, 10],\n",
    "    'min_samples_leaf': [1, 2, 4],\n",
    "}\n",
    "\n",
    "param_grid_knn = {\n",
    "    'n_neighbors': [3, 5, 7, 9, 11, 13, 15],\n",
    "    'weights': ['uniform', 'distance'],\n",
    "    'algorithm': ['auto', 'ball_tree', 'kd_tree', 'brute'],\n",
    "    'leaf_size': [20, 30, 40],\n",
    "    'p': [1, 2]\n",
    "}\n",
    "\n",
    "grid_search_knn = GridSearchCV(KNeighborsClassifier(), param_grid_knn, cv=10, scoring='accuracy')\n",
    "grid_search_rf = GridSearchCV(RandomForestClassifier(), param_grid_rf, cv=10, scoring='accuracy')\n",
    "\n",
    "grid_search_rf.fit(X_train, y_train)\n",
    "grid_search_knn.fit(X_train, y_train)\n",
    "\n",
    "knn_best = grid_search_knn.best_estimator_\n",
    "rf_best = grid_search_rf.best_estimator_\n",
    "\n",
    "clf = VotingClassifier(\n",
    "\t\testimators=[('knn_best', knn_best),('rf_best', rf_best)],\n",
    "        voting='hard'\n",
    "\t)\n",
    "clf.fit(X_train,y_train)\n",
    "predictions = clf.predict(X_test)\n",
    "output = pd.DataFrame({'PassengerId': test_data.PassengerId, 'Transported': predictions})\n",
    "output.head(10)"
   ]
  },
  {
   "cell_type": "code",
   "execution_count": null,
   "metadata": {},
   "outputs": [],
   "source": [
    "output.to_csv(r\"D:\\Projects\\Spaceship-Titanic-ML\\predictions.csv\", index=False)# your path here"
   ]
  }
 ],
 "metadata": {
  "kernelspec": {
   "display_name": "my-course",
   "language": "python",
   "name": "my-course"
  },
  "language_info": {
   "codemirror_mode": {
    "name": "ipython",
    "version": 3
   },
   "file_extension": ".py",
   "mimetype": "text/x-python",
   "name": "python",
   "nbconvert_exporter": "python",
   "pygments_lexer": "ipython3",
   "version": "3.9.19"
  }
 },
 "nbformat": 4,
 "nbformat_minor": 2
}
